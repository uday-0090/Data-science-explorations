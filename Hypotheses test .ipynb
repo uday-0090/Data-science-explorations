{
 "cells": [
  {
   "cell_type": "markdown",
   "id": "4f0bbaa2-5bd3-4e2f-8195-f99311992cc6",
   "metadata": {},
   "source": [
    "## **Hypothesis**\n",
    "___"
   ]
  },
  {
   "cell_type": "markdown",
   "id": "6b1efe32-b106-48a4-8d87-3cef2c6f1198",
   "metadata": {},
   "source": [
    "### **Null Hypothesis(H_0)**\n",
    "\n",
    "- The mean of weekly operating cost is equal to the theoretical mean cost according to the cost model.which is oppsite of what restaurants owners are claiming\n",
    "\n",
    "### **Alternative hypothesis(H_1)**\n",
    "\n",
    "- The mean of weekly operating cost is greater than the theoretical mean cost according to the cost model.which is exactly what restaurant owner are claimed"
   ]
  },
  {
   "cell_type": "markdown",
   "id": "808eab5e-e1a8-4eb8-bf84-ed8b34ba6573",
   "metadata": {},
   "source": [
    "___"
   ]
  },
  {
   "cell_type": "markdown",
   "id": "54730f3b-efcd-4c33-8720-3238f5fca7a5",
   "metadata": {},
   "source": [
    "### **Calculating the test statistic** \n",
    "\n",
    "- Calcualating the theoretical mean of weekly cost model using the provided data "
   ]
  },
  {
   "cell_type": "code",
   "execution_count": 49,
   "id": "4de364ef-7423-48d2-a216-73acd1b2d3bf",
   "metadata": {},
   "outputs": [],
   "source": [
    "import numpy as np\n",
    "import scipy.stats as stats"
   ]
  },
  {
   "cell_type": "code",
   "execution_count": 73,
   "id": "fbe85b6d-6488-4da3-9170-2b0735fef966",
   "metadata": {},
   "outputs": [
    {
     "name": "stdout",
     "output_type": "stream",
     "text": [
      "theoretical mean: 4000\n",
      "sigma: 125\n"
     ]
    }
   ],
   "source": [
    "#Given data\n",
    "sample_mean = 3050\n",
    "X = 600\n",
    "n = 25\n",
    "#calculating theoretical mean from given data \n",
    "W = 1000 + 5*X\n",
    "\n",
    "#calculating standard deviation \n",
    "sigma = 5*25\n",
    "print(\"theoretical mean:\",W)\n",
    "print(\"sigma:\",sigma)"
   ]
  },
  {
   "cell_type": "code",
   "execution_count": 79,
   "id": "78c0194a-6b95-4a0d-bf73-8ea72afc20b1",
   "metadata": {},
   "outputs": [
    {
     "name": "stdout",
     "output_type": "stream",
     "text": [
      "test stat : -38.0\n"
     ]
    }
   ],
   "source": [
    "#calculating test statistics\n",
    "t = (sample_mean - W) / (sigma / np.sqrt(n))  \n",
    "\n",
    "print(\"test stat :\",t)"
   ]
  },
  {
   "cell_type": "markdown",
   "id": "e22d394b-324b-4966-9a81-930144351806",
   "metadata": {},
   "source": [
    "### **Calculating critical value**"
   ]
  },
  {
   "cell_type": "code",
   "execution_count": 82,
   "id": "8edfcd0c-47d7-4e69-8050-038157f748eb",
   "metadata": {},
   "outputs": [
    {
     "name": "stdout",
     "output_type": "stream",
     "text": [
      "critical value: 1.6448536269514722\n"
     ]
    }
   ],
   "source": [
    "alpha = 0.05\n",
    "critical_value = stats.norm.ppf(1 - alpha)\n",
    "print(\"critical value:\",critical_value)"
   ]
  },
  {
   "cell_type": "markdown",
   "id": "5b9e7063-16ae-4895-8507-1170e3fecccf",
   "metadata": {},
   "source": [
    "### **Making The Decision**\n",
    "\n",
    " Making an appropriate decision by comparing the critical value(z) with test value(t).\n",
    "\n",
    "  - test value (t) = -38.0\n",
    "  - critical value (Z) = 1.645\n",
    "\n",
    " therefore the test value is smaller than the critical value ,we reject null hypotheses."
   ]
  },
  {
   "cell_type": "code",
   "execution_count": 87,
   "id": "0284c181-59ba-4f39-98bc-ddc9e287dbfe",
   "metadata": {},
   "outputs": [],
   "source": [
    "#making the decision based on the values of test statistic and critical value by comparing them\n",
    "if t < critical_value:\n",
    "    decision = \"Reject the null hypothesis\"\n",
    "else:\n",
    "    decision = \"Fail to reject the null hypothesis\""
   ]
  },
  {
   "attachments": {},
   "cell_type": "markdown",
   "id": "ff6ade25-300c-4bb3-ba5c-226f1fdd97b2",
   "metadata": {},
   "source": [
    "## **Conclusion**\n",
    "\n",
    "Based on the decision, we reject the null hypothesis. This provides strong evidence to support that the restaurant owner's of 25 restaurants claim that the weekly operating costs are higher than the what cost model suggests."
   ]
  },
  {
   "cell_type": "code",
   "execution_count": 121,
   "id": "7036e58e-fa9b-4b18-98f3-53dc1dde2b40",
   "metadata": {},
   "outputs": [],
   "source": [
    "if t < critical_value : conclusion = \"There is strong evidence to support the restaurant owners' claim that the weekly operating costs are higher than the model suggests.\"\n",
    "else:\n",
    " conclusion = \"There is not enough evidence to support the claim.\""
   ]
  },
  {
   "cell_type": "code",
   "execution_count": 129,
   "id": "40128c0d-7615-4fa7-8a8a-4cb2af4a6782",
   "metadata": {},
   "outputs": [
    {
     "name": "stdout",
     "output_type": "stream",
     "text": [
      "Test Statistic: -38.0\n",
      "Critical Value: 1.6448536269514722\n",
      "Decision: Reject the null hypothesis\n",
      "Conclusion: There is strong evidence to support the restaurant owners' claim that the weekly operating costs are higher than the model suggests.\n"
     ]
    }
   ],
   "source": [
    "print(f'Test Statistic: {t}')\n",
    "print(f'Critical Value: {critical_value}')\n",
    "print(f'Decision: {decision}')\n",
    "print(f'Conclusion: {conclusion}')"
   ]
  },
  {
   "cell_type": "code",
   "execution_count": null,
   "id": "282a1007-45de-40a3-9037-001b44f83fff",
   "metadata": {},
   "outputs": [],
   "source": []
  }
 ],
 "metadata": {
  "kernelspec": {
   "display_name": "Python 3 (ipykernel)",
   "language": "python",
   "name": "python3"
  },
  "language_info": {
   "codemirror_mode": {
    "name": "ipython",
    "version": 3
   },
   "file_extension": ".py",
   "mimetype": "text/x-python",
   "name": "python",
   "nbconvert_exporter": "python",
   "pygments_lexer": "ipython3",
   "version": "3.12.7"
  }
 },
 "nbformat": 4,
 "nbformat_minor": 5
}
