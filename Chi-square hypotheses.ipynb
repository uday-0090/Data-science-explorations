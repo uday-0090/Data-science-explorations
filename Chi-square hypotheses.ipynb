{
 "cells": [
  {
   "cell_type": "code",
   "execution_count": 1,
   "id": "8826c54c-7330-458a-ba23-116a05c036d7",
   "metadata": {},
   "outputs": [],
   "source": [
    "#importing the necessary libraries\n",
    "import pandas as pd \n",
    "import numpy as np\n",
    "from scipy.stats import chi2"
   ]
  },
  {
   "cell_type": "markdown",
   "id": "6a74702c-e43b-4811-9322-90f2336f738e",
   "metadata": {},
   "source": [
    "## **Hypotheses**\n",
    "\n",
    "### **Null Hypothesis (H_0)**\n",
    "\n",
    "- There is no significant association between the type of device purchased (Smart Thermostats vs Smart Lights) and the customer satisfaction level.\n",
    "\n",
    "### **Alternative Hypothesis (H_1)**\n",
    "- There is a significant association between the type of device purchased and the customer satisfaction level"
   ]
  },
  {
   "cell_type": "code",
   "execution_count": 4,
   "id": "0b63ac54-0125-4033-90ff-788883a396d8",
   "metadata": {},
   "outputs": [
    {
     "name": "stdout",
     "output_type": "stream",
     "text": [
      "{'very satisfied': [50, 70], 'satisfied': [80, 100], 'neutral': [60, 90], 'unsatified': [30, 50], 'very unsatisfied': [20, 50]}\n"
     ]
    }
   ],
   "source": [
    "#Creating a table for calculations\n",
    "data = {'very satisfied':[50,70],\n",
    "        'satisfied':[80,100],\n",
    "        'neutral':[60,90],\n",
    "        'unsatified':[30,50],\n",
    "        'very unsatisfied':[20,50]}\n",
    "print(data)"
   ]
  },
  {
   "cell_type": "code",
   "execution_count": 7,
   "id": "7dd088f0-4e48-42e4-adc3-4e2193da9fdd",
   "metadata": {},
   "outputs": [
    {
     "name": "stdout",
     "output_type": "stream",
     "text": [
      "customer reviews:\n",
      "                  very satisfied  satisfied  neutral  unsatified  \\\n",
      "smart thermostat              50         80       60          30   \n",
      "smart light                   70        100       90          50   \n",
      "\n",
      "                  very unsatisfied  \n",
      "smart thermostat                20  \n",
      "smart light                     50  \n"
     ]
    }
   ],
   "source": [
    "#Creating a index for the table of customer review\n",
    "reviews_df =pd.DataFrame(data,index=['smart thermostat','smart light'])\n",
    "print(\"customer reviews:\")\n",
    "print(reviews_df)"
   ]
  },
  {
   "cell_type": "markdown",
   "id": "4926e07e-6c6e-4159-93cc-3e4d4c4439cb",
   "metadata": {},
   "source": [
    "### **Calculating the Chi-Square statistic with the formula:**\n",
    "\n",
    "[ \\chi^2 = \\sum \\frac{(O - E)^2}{E} ]\n",
    "\n",
    "Where:\n",
    "\n",
    "(O) = Observed frequency\n",
    "(E) = Expected frequency\n",
    "The expected frequency for each cell can be calculated using:\n",
    "\n",
    "[ E = \\frac{(row\\ total) \\times (column\\ total)}{grand\\ total} ]"
   ]
  },
  {
   "cell_type": "code",
   "execution_count": 9,
   "id": "c9f50458-a2b1-4ced-8aa7-bc56a4752980",
   "metadata": {},
   "outputs": [
    {
     "name": "stdout",
     "output_type": "stream",
     "text": [
      "\n",
      "Expected frequencies:\n",
      "[[ 48.  72.  60.  32.  28.]\n",
      " [ 72. 108.  90.  48.  42.]]\n"
     ]
    }
   ],
   "source": [
    "#Calculating expected frequencies\n",
    "total = reviews_df.sum().sum()\n",
    "row_totals=reviews_df.sum(axis=1)\n",
    "column_totals=reviews_df.sum(axis=0)\n",
    "\n",
    "expected_freq = np.outer(row_totals,column_totals) / total \n",
    "print ('\\nExpected frequencies:')\n",
    "print(expected_freq)"
   ]
  },
  {
   "cell_type": "code",
   "execution_count": 15,
   "id": "eaa78473-7a42-4cc5-be32-a0d7dcb82c51",
   "metadata": {},
   "outputs": [
    {
     "name": "stdout",
     "output_type": "stream",
     "text": [
      "\n",
      "Chi square stats: 5.638227513227513\n"
     ]
    }
   ],
   "source": [
    "#Calculating chi-square stats\n",
    "observed =reviews_df.values\n",
    "chi_square_stats = ((observed - expected_freq)**2/ expected_freq).sum()\n",
    "print('\\nChi square stats:' ,chi_square_stats)"
   ]
  },
  {
   "cell_type": "markdown",
   "id": "f57788b2-fb60-45d5-b2f1-29e16e257d02",
   "metadata": {},
   "source": [
    "### **Determining the critical value:**\n",
    "The critical value can be found using the Chi-Square distribution table. The degrees of freedom (df) can be calculated as:\n",
    "\n",
    "[ df = (number\\ of\\ rows - 1) \\times (number\\ of\\ columns - 1) ]"
   ]
  },
  {
   "cell_type": "code",
   "execution_count": 18,
   "id": "8fb07e39-4348-40d5-b752-3846f2bf5b6a",
   "metadata": {},
   "outputs": [
    {
     "name": "stdout",
     "output_type": "stream",
     "text": [
      "critical value at alpha = 0.05: 9.487729036781154\n"
     ]
    }
   ],
   "source": [
    "#Determining the critical value\n",
    "alpha = 0.05\n",
    "df_chi_square = (len(row_totals)-1)*(len(column_totals)-1)\n",
    "critical_value = chi2.ppf(1-alpha,df_chi_square)\n",
    "print('critical value at alpha = 0.05:',critical_value)"
   ]
  },
  {
   "cell_type": "markdown",
   "id": "f89b46e1-fc51-45ce-a598-3b1a687d9ee4",
   "metadata": {},
   "source": [
    "### **Making a deicision**\n",
    "By comparing the chi square statistic with the critical value we decide whether to reject the null hypotheses or not"
   ]
  },
  {
   "cell_type": "code",
   "execution_count": 21,
   "id": "a881f82b-ab20-48ae-96ce-e44bab815e86",
   "metadata": {},
   "outputs": [
    {
     "name": "stdout",
     "output_type": "stream",
     "text": [
      "failed to reject the null hypotheses:there's no significant association\n"
     ]
    }
   ],
   "source": [
    "#Making a decsion\n",
    "if chi_square_stats>critical_value:\n",
    "    print(\"rejecting the null hypotheses:there's significant association\") #Between the device type and customer satisfactions\n",
    "else:\n",
    "    print(\"failed to reject the null hypotheses:there's no significant association\")"
   ]
  },
  {
   "cell_type": "markdown",
   "id": "c34cb927-b11b-4d61-8819-fe4857bc6155",
   "metadata": {},
   "source": [
    "## **Conclusion**\n",
    "since the chi square statistic is smaller than critical value we can decide that there's no significant association between device type purchased by the customer and customer satisfaction"
   ]
  },
  {
   "cell_type": "code",
   "execution_count": null,
   "id": "ffb98c2a-3c63-4eb1-a43d-69f720f30a43",
   "metadata": {},
   "outputs": [],
   "source": []
  }
 ],
 "metadata": {
  "kernelspec": {
   "display_name": "Python 3 (ipykernel)",
   "language": "python",
   "name": "python3"
  },
  "language_info": {
   "codemirror_mode": {
    "name": "ipython",
    "version": 3
   },
   "file_extension": ".py",
   "mimetype": "text/x-python",
   "name": "python",
   "nbconvert_exporter": "python",
   "pygments_lexer": "ipython3",
   "version": "3.12.7"
  }
 },
 "nbformat": 4,
 "nbformat_minor": 5
}
