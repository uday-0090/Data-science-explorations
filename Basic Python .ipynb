{
 "cells": [
  {
   "cell_type": "markdown",
   "id": "75bee550-51c5-4e3d-b169-05370447d6e0",
   "metadata": {},
   "source": [
    "### **Exercise 1**"
   ]
  },
  {
   "cell_type": "code",
   "execution_count": 8,
   "id": "986e0d18-581d-40e9-844b-6fe6bdac580c",
   "metadata": {},
   "outputs": [
    {
     "name": "stdin",
     "output_type": "stream",
     "text": [
      "Enter a number:  37\n"
     ]
    },
    {
     "name": "stdout",
     "output_type": "stream",
     "text": [
      "37 is a prime number.\n"
     ]
    }
   ],
   "source": [
    "\n",
    "def is_prime(n):\n",
    "    \"\"\"Check if a number is prime.\"\"\"\n",
    "    if n <= 1:\n",
    "        return False\n",
    "    for i in range(2, int(n**0.5) + 1):\n",
    "        if n % i == 0:\n",
    "            return False\n",
    "    return True\n",
    "\n",
    "#Input\n",
    "number = int(input(\"Enter a number: \"))\n",
    "\n",
    "#Checking if the given number is prime or not\n",
    "if is_prime(number):\n",
    "    print(f\"{number} is a prime number.\")\n",
    "else:\n",
    "    print(f\"{number} is not a prime number.\")"
   ]
  },
  {
   "cell_type": "markdown",
   "id": "e63fe8a4-0361-47e7-9696-3d5a850cfe39",
   "metadata": {},
   "source": [
    "### **Exercise 2**"
   ]
  },
  {
   "cell_type": "code",
   "execution_count": 6,
   "id": "37524459-98ab-4fa3-91c7-012c38948d8c",
   "metadata": {},
   "outputs": [
    {
     "name": "stdin",
     "output_type": "stream",
     "text": [
      "What is the product of 71 * 20 ?. 1420\n"
     ]
    },
    {
     "name": "stdout",
     "output_type": "stream",
     "text": [
      "Correct! that's amazing.\n"
     ]
    }
   ],
   "source": [
    "import random\n",
    "\n",
    "def multiplication_exercise():\n",
    "    #Generating two random numbers between 0 and 10\n",
    "    num_1 = random.randint(0, 100) #can change the range according to need\n",
    "    num_2 = random.randint(0, 100)\n",
    "    \n",
    "    #Calculating the correct product\n",
    "    correct_product = num_1 * num_2\n",
    "    \n",
    "    #Asking the user for the product of random two numbers\n",
    "    user_answer = int(input(f\"What is the product of {num_1} * {num_2} ?.\"))\n",
    "    \n",
    "    #Check if the user's answer is correct or not \n",
    "    if user_answer == correct_product:\n",
    "        print(\"Correct! that's amazing.\") #generating appropriate message according to the answer\n",
    "    else:\n",
    "        print(f\"Incorrect,that's a good try. The correct answer is {correct_product}.\")\n",
    "\n",
    "#Runing the multiplication exercise\n",
    "multiplication_exercise ()"
   ]
  },
  {
   "cell_type": "markdown",
   "id": "bcf9f9ce-fbfa-48cd-893d-c248315d6f5a",
   "metadata": {},
   "source": [
    "### **Exercise 3**"
   ]
  },
  {
   "cell_type": "code",
   "execution_count": 14,
   "id": "5ee92f21-da0e-4bbf-bea4-7b7c4f0c085f",
   "metadata": {},
   "outputs": [
    {
     "name": "stdout",
     "output_type": "stream",
     "text": [
      "Squares of odd numbers from 100 to 200:\n",
      "The square of 101 is 10201.\n",
      "The square of 103 is 10609.\n",
      "The square of 105 is 11025.\n",
      "The square of 107 is 11449.\n",
      "The square of 109 is 11881.\n",
      "The square of 111 is 12321.\n",
      "The square of 113 is 12769.\n",
      "The square of 115 is 13225.\n",
      "The square of 117 is 13689.\n",
      "The square of 119 is 14161.\n",
      "The square of 121 is 14641.\n",
      "The square of 123 is 15129.\n",
      "The square of 125 is 15625.\n",
      "The square of 127 is 16129.\n",
      "The square of 129 is 16641.\n",
      "The square of 131 is 17161.\n",
      "The square of 133 is 17689.\n",
      "The square of 135 is 18225.\n",
      "The square of 137 is 18769.\n",
      "The square of 139 is 19321.\n",
      "The square of 141 is 19881.\n",
      "The square of 143 is 20449.\n",
      "The square of 145 is 21025.\n",
      "The square of 147 is 21609.\n",
      "The square of 149 is 22201.\n",
      "The square of 151 is 22801.\n",
      "The square of 153 is 23409.\n",
      "The square of 155 is 24025.\n",
      "The square of 157 is 24649.\n",
      "The square of 159 is 25281.\n",
      "The square of 161 is 25921.\n",
      "The square of 163 is 26569.\n",
      "The square of 165 is 27225.\n",
      "The square of 167 is 27889.\n",
      "The square of 169 is 28561.\n",
      "The square of 171 is 29241.\n",
      "The square of 173 is 29929.\n",
      "The square of 175 is 30625.\n",
      "The square of 177 is 31329.\n",
      "The square of 179 is 32041.\n",
      "The square of 181 is 32761.\n",
      "The square of 183 is 33489.\n",
      "The square of 185 is 34225.\n",
      "The square of 187 is 34969.\n",
      "The square of 189 is 35721.\n",
      "The square of 191 is 36481.\n",
      "The square of 193 is 37249.\n",
      "The square of 195 is 38025.\n",
      "The square of 197 is 38809.\n",
      "The square of 199 is 39601.\n"
     ]
    }
   ],
   "source": [
    "#Printing the squares of all odd numbers between 100 to 200\n",
    "#Given range\n",
    "start = 100\n",
    "end = 200\n",
    "\n",
    "# Choosing odd numbers to work with \n",
    "print(\"Squares of odd numbers from 100 to 200:\") #it's a matter of simple change in the formula\n",
    "for number in range(start, end + 1):\n",
    "    if number % 2 != 0:  #Check if the number is odd or even\n",
    "        square = number ** 2\n",
    "        print(f\"The square of {number} is {square}.\")"
   ]
  },
  {
   "cell_type": "markdown",
   "id": "4660eff1-769b-4786-8bb4-b712b3f12b24",
   "metadata": {},
   "source": [
    "### **Exercise 4**"
   ]
  },
  {
   "cell_type": "code",
   "execution_count": 16,
   "id": "4f61ed0d-6000-44b9-b69d-38bbb10b5174",
   "metadata": {},
   "outputs": [
    {
     "name": "stdin",
     "output_type": "stream",
     "text": [
      "Enter your text:  No matter how deep the night is ,the day will always rise\n"
     ]
    },
    {
     "name": "stdout",
     "output_type": "stream",
     "text": [
      "The number of words in the given text is: 12\n"
     ]
    }
   ],
   "source": [
    "#Counting the number of words in the given text by the user\n",
    "def count_words(text):\n",
    "    \"\"\"Count the number of words in a given text.\"\"\"\n",
    "    \n",
    "    words = text.split() #Reading the text according to spaces between the words\n",
    "    #Readind and Return the number of words\n",
    "    return len(words)\n",
    "\n",
    "#Input text from the user\n",
    "input_text = input(\"Enter your text: \")\n",
    "\n",
    "#Counting the number of words \n",
    "word_count = count_words(input_text)\n",
    "\n",
    "#Displaying the result\n",
    "print(f\"The number of words in the given text is: {word_count}\")"
   ]
  },
  {
   "cell_type": "markdown",
   "id": "28a71630-9612-4157-83d6-0975351c8b2e",
   "metadata": {},
   "source": [
    "### **Exercise 5**"
   ]
  },
  {
   "cell_type": "code",
   "execution_count": 19,
   "id": "72b6f237-0f02-4156-ab22-014579527041",
   "metadata": {},
   "outputs": [
    {
     "name": "stdin",
     "output_type": "stream",
     "text": [
      "Enter a string:  A santa at NASA\n"
     ]
    },
    {
     "name": "stdout",
     "output_type": "stream",
     "text": [
      "The string is a palindrome.\n"
     ]
    }
   ],
   "source": [
    "#Creating a programe to check the given word ,phrase and nuber is a palindrome or not\n",
    "import string\n",
    "\n",
    "def is_palindrome(s):\n",
    "    \"\"\"Check if the input string is a palindrome.\"\"\"\n",
    "\n",
    "    #Normalizing the string which might be a word or phrase or a number by removing space,puntuation and coverting capital to lower case\n",
    "    normalized_str = ''.join(char.lower() for char in s if char.isalnum()) \n",
    "    \n",
    "    #Checking if the normalized string is the same from forwards and backwards\n",
    "    return normalized_str == normalized_str[::-1]\n",
    "\n",
    "#Input from user\n",
    "input_string = input(\"Enter a string: \")\n",
    "if is_palindrome(input_string):\n",
    "    print(\"The string is a palindrome.\")\n",
    "else:\n",
    "    print(\"The string is not a palindrome.\")"
   ]
  },
  {
   "cell_type": "code",
   "execution_count": null,
   "id": "0a91bb5c-3512-4c89-8a4f-959143312831",
   "metadata": {},
   "outputs": [],
   "source": []
  }
 ],
 "metadata": {
  "kernelspec": {
   "display_name": "Python 3 (ipykernel)",
   "language": "python",
   "name": "python3"
  },
  "language_info": {
   "codemirror_mode": {
    "name": "ipython",
    "version": 3
   },
   "file_extension": ".py",
   "mimetype": "text/x-python",
   "name": "python",
   "nbconvert_exporter": "python",
   "pygments_lexer": "ipython3",
   "version": "3.12.7"
  }
 },
 "nbformat": 4,
 "nbformat_minor": 5
}
