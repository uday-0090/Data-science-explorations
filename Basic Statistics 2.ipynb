{
 "cells": [
  {
   "cell_type": "code",
   "execution_count": 1,
   "id": "8f5595f4-be2e-493a-8354-c95de5237447",
   "metadata": {},
   "outputs": [],
   "source": [
    "#importing necessary libraries\n",
    "import pandas as pd\n",
    "import numpy as np\n",
    "import scipy.stats as stats"
   ]
  },
  {
   "cell_type": "code",
   "execution_count": 2,
   "id": "7b8a1beb-fec0-4c9a-8ade-54715e52107b",
   "metadata": {},
   "outputs": [],
   "source": [
    "#Given data :Durability of print-heads in a million characters\n",
    "durability = np.array([1.13, 1.55, 1.43, 0.92, 1.25, 1.36, 1.32, \n",
    "                       0.85, 1.07, 1.48, 1.20, 1.33, 1.18, 1.22, 1.29])"
   ]
  },
  {
   "cell_type": "markdown",
   "id": "99883ff9-a4e5-4e6c-b54b-624ee078c095",
   "metadata": {},
   "source": [
    "## **Task A**"
   ]
  },
  {
   "cell_type": "code",
   "execution_count": 11,
   "id": "7c8d21d7-ce20-4b11-8c7a-93f368162475",
   "metadata": {},
   "outputs": [
    {
     "name": "stdout",
     "output_type": "stream",
     "text": [
      "sample size: 15\n",
      "sample mean: 1.2386666666666666\n",
      "sample deviation: 0.19316412956959936\n"
     ]
    }
   ],
   "source": [
    "# First we calculate Sample mean and sample standard deviation\n",
    "sample_mean = np.mean(durability)\n",
    "sample_std = np.std(durability, ddof=1)  # ddof=1 for sample standard deviation\n",
    "n = len(durability)  # Sample size\n",
    "\n",
    "print(f'sample size:',n)\n",
    "print(f'sample mean:',sample_mean)\n",
    "print(f'sample deviation:',sample_std)"
   ]
  },
  {
   "cell_type": "code",
   "execution_count": 15,
   "id": "47d04bcf-fc74-4fb5-a980-beaf34bdc97f",
   "metadata": {},
   "outputs": [],
   "source": [
    "# Setting Confidence level and creating t-value\n",
    "confidence_level = 0.99\n",
    "alpha = 1 - confidence_level\n",
    "t_value = stats.t.ppf(1 - alpha/2, df=n-1) "
   ]
  },
  {
   "cell_type": "code",
   "execution_count": 17,
   "id": "3292e07a-fa72-43b0-804f-4f52e24ceee3",
   "metadata": {},
   "outputs": [],
   "source": [
    "# calculating Standard error\n",
    "standard_error = sample_std / np.sqrt(n)\n",
    "\n",
    "# calculating Margin of error\n",
    "margin_of_error = t_value * standard_error"
   ]
  },
  {
   "cell_type": "code",
   "execution_count": 19,
   "id": "404047f9-bb5a-45e5-8943-f10408e5e715",
   "metadata": {},
   "outputs": [],
   "source": [
    "# Calculating confidence interval\n",
    "confidence_interval = (sample_mean - margin_of_error, sample_mean + margin_of_error)"
   ]
  },
  {
   "cell_type": "code",
   "execution_count": 21,
   "id": "74a9cdfc-30a3-4263-bc80-85876d8d7f22",
   "metadata": {},
   "outputs": [
    {
     "name": "stdout",
     "output_type": "stream",
     "text": [
      "Sample Mean: 1.24\n",
      "Sample Standard Deviation: 0.19\n",
      "t-value: 2.98\n",
      "Margin of Error: 0.15\n",
      "99% Confidence Interval: (1.0901973384384906, 1.3871359948948425)\n"
     ]
    }
   ],
   "source": [
    "print(f\"Sample Mean: {sample_mean:.2f}\")\n",
    "print(f\"Sample Standard Deviation: {sample_std:.2f}\")\n",
    "print(f\"t-value: {t_value:.2f}\")\n",
    "print(f\"Margin of Error: {margin_of_error:.2f}\")\n",
    "print(f\"99% Confidence Interval: {confidence_interval}\")"
   ]
  },
  {
   "cell_type": "markdown",
   "id": "b037891a-2386-4f2f-9326-fb889e98db6c",
   "metadata": {},
   "source": [
    "## **Steps taken**\n",
    "\n",
    "**calculating Sample Mean**\n",
    "\n",
    " - First calculating the average of durability of the print-heads from the sample data. the sample mean serves as a point estimate of the population mean, providing a central value around which the data points are distributed.\n",
    " \n",
    "**Calculating Sample Standard Deviation**\n",
    "\n",
    " - Determine the variability of the sample data by calculating the sample standard deviation.the sample standard deviation measures how much individual data points deviate from the mean, indicating the dispersion of the sample data.\n",
    "\n",
    "### **Resonale behind using t-distrubution**\n",
    "since we know that the sample size is 15 print-heads selected in millions of characters .A sample size of 15 is considered small, which affects the choice of statistical methods used for analysis. and we don't know the population standard deviation so the choice is t-Distribution.\n",
    "t-distribution is perfect for this kind of case \n",
    "\n",
    " - Next use the t-distribution for constructing the confidence interval.It accounts for the additional uncertainty in estimating population parameters from a limited sample.\n",
    "\n",
    " - after that we find the t-value corresponding to the desired confidence level of 99%. the t-value is critical for calculating the margin of error, which indicates how far we expect the sample mean to deviate from the true population mean.\n",
    "**Calculating the Standard Error**\n",
    "\n",
    " - Calculating the standard error of the mean using the sample standard deviation and sample size.the standard error provides an estimate of how much the sample mean is expected to vary from the true population mean.\n",
    "\n",
    "**Calculating the Margin of Error**\n",
    "\n",
    " - Multiplying the t-value by the standard error to obtain the margin of error.the margin of error quantifies the uncertainty in the estimation of the population mean, allowing us to construct a confidence interval.\n",
    "**Constructing the Confidence Interval**\n",
    "\n",
    " - Creating the confidence interval using the sample mean and the margin of error.the confidence interval provides a range of values within which we can be 99% confident that the true population mean lies, reflecting the uncertainty inherent in estimating population parameters from a small sample.\n",
    "\n",
    "### **Conclusion**\n",
    "The rationale for using the t-distribution in this task stems from the small sample size and the unknown population standard deviation, making it a more appropriate choice for estimating the confidence interval for the population mean."
   ]
  },
  {
   "cell_type": "markdown",
   "id": "2f1406ff-4770-4160-9bbd-0617fbaa58cf",
   "metadata": {},
   "source": [
    "## **Task B**"
   ]
  },
  {
   "cell_type": "code",
   "execution_count": 25,
   "id": "a3dde2ed-eef2-4868-9059-fc71063bb6c9",
   "metadata": {},
   "outputs": [],
   "source": [
    "# Given population standard deviation in millions of characters\n",
    "population_std = 0.2  \n",
    "\n",
    "# Z-value for 99% confidence level\n",
    "z_value = stats.norm.ppf(1 - alpha/2)\n",
    "\n",
    "# Calculating Standard error using population standard deviation\n",
    "standard_error_population = population_std / np.sqrt(n)\n",
    "\n",
    "# Calculating Margin of error for population\n",
    "margin_of_error_population = z_value * standard_error_population\n",
    "\n",
    "# Confidence interval for population\n",
    "confidence_interval_population = (sample_mean - margin_of_error_population, sample_mean + margin_of_error_population)"
   ]
  },
  {
   "cell_type": "code",
   "execution_count": 39,
   "id": "269689f2-3b84-4144-a792-71275440965f",
   "metadata": {},
   "outputs": [
    {
     "name": "stdout",
     "output_type": "stream",
     "text": [
      "population confidence interval: (1.1056514133957607, 1.3716819199375725)\n"
     ]
    }
   ],
   "source": [
    "print(f'population confidence interval:',confidence_interval_population)"
   ]
  },
  {
   "cell_type": "code",
   "execution_count": null,
   "id": "3bf946d1-54ce-426e-a61c-a7052c476eac",
   "metadata": {},
   "outputs": [],
   "source": []
  }
 ],
 "metadata": {
  "kernelspec": {
   "display_name": "Python 3 (ipykernel)",
   "language": "python",
   "name": "python3"
  },
  "language_info": {
   "codemirror_mode": {
    "name": "ipython",
    "version": 3
   },
   "file_extension": ".py",
   "mimetype": "text/x-python",
   "name": "python",
   "nbconvert_exporter": "python",
   "pygments_lexer": "ipython3",
   "version": "3.12.7"
  }
 },
 "nbformat": 4,
 "nbformat_minor": 5
}
